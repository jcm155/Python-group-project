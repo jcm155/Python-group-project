{
 "cells": [
  {
   "cell_type": "code",
   "execution_count": 2,
   "metadata": {},
   "outputs": [
    {
     "name": "stdin",
     "output_type": "stream",
     "text": [
      "What will you bring through the green glass door? apple\n"
     ]
    },
    {
     "name": "stdout",
     "output_type": "stream",
     "text": [
      "That sounds great!\n"
     ]
    },
    {
     "name": "stdin",
     "output_type": "stream",
     "text": [
      "What will you bring through the green glass door? peach\n"
     ]
    },
    {
     "name": "stdout",
     "output_type": "stream",
     "text": [
      "You can't bring that.\n"
     ]
    },
    {
     "name": "stdin",
     "output_type": "stream",
     "text": [
      "What will you bring through the green glass door? quit\n"
     ]
    }
   ],
   "source": [
    "acceptable_chars = []\n",
    "for letter in range(97, 123):\n",
    "    acceptable_chars.append(chr(letter)+chr(letter))\n",
    "win = 0;\n",
    "while True:\n",
    "    item = input(\"What will you bring through the green glass door?\").lower()+\" \"\n",
    "    if (item != \"quit \"):\n",
    "        for i in range(0, 25):\n",
    "            if item.find(acceptable_chars[i], 0, -1) != -1:\n",
    "                win += 1\n",
    "        if win > 0:\n",
    "            print(\"That sounds great!\")\n",
    "            win = 0\n",
    "        else:\n",
    "            print(\"You can't bring that.\")\n",
    "    else:\n",
    "        break"
   ]
  },
  {
   "cell_type": "code",
   "execution_count": null,
   "metadata": {},
   "outputs": [],
   "source": []
  }
 ],
 "metadata": {
  "kernelspec": {
   "display_name": "Python 3.7",
   "language": "python",
   "name": "python3"
  },
  "language_info": {
   "codemirror_mode": {
    "name": "ipython",
    "version": 3
   },
   "file_extension": ".py",
   "mimetype": "text/x-python",
   "name": "python",
   "nbconvert_exporter": "python",
   "pygments_lexer": "ipython3",
   "version": "3.7.0"
  }
 },
 "nbformat": 4,
 "nbformat_minor": 2
}
